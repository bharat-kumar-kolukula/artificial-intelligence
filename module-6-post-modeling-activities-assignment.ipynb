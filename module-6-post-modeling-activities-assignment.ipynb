{
 "cells": [
  {
   "cell_type": "markdown",
   "metadata": {},
   "source": [
    "Problem Statement:\n",
    "\n",
    "Fashion MNIST is a dataset of Zalando's article images, consisting of 60,000 training examples and 10,000 test examples. Each example is a 28x28 grayscale image, associated with a label from 10 classes. The task is to classify these images into an apparel category amongst 10 categories on which the dataset is benchmarked."
   ]
  },
  {
   "cell_type": "markdown",
   "metadata": {},
   "source": [
    "Data Preparation and Visualization:\n",
    "\n",
    "● Load the Fashion MNIST dataset.\n",
    "\n",
    "● Visualize different samples from the dataset.\n",
    "\n",
    "● Normalize the pixel values of the images to be between 0 and 1 for better model performance.\n",
    "\n",
    "● Convert the output labels to categorical format for classification."
   ]
  },
  {
   "cell_type": "markdown",
   "metadata": {},
   "source": [
    "    Import libraries"
   ]
  },
  {
   "cell_type": "code",
   "execution_count": 1,
   "metadata": {
    "execution": {
     "iopub.execute_input": "2024-11-24T10:18:16.659702Z",
     "iopub.status.busy": "2024-11-24T10:18:16.659335Z",
     "iopub.status.idle": "2024-11-24T10:18:28.728217Z",
     "shell.execute_reply": "2024-11-24T10:18:28.727535Z",
     "shell.execute_reply.started": "2024-11-24T10:18:16.659667Z"
    }
   },
   "outputs": [],
   "source": [
    "import datetime\n",
    "import matplotlib.pyplot as plt\n",
    "import numpy as np\n",
    "\n",
    "from sklearn.metrics import confusion_matrix, classification_report\n",
    "import tensorflow as tf\n",
    "from tensorflow.keras.datasets import fashion_mnist\n",
    "from tensorflow.keras.utils import to_categorical\n",
    "from tensorflow.keras.models import Sequential\n",
    "from tensorflow.keras.layers import Dense, Flatten, Conv2D, MaxPooling2D,BatchNormalization,Dropout,ReLU\n",
    "from tensorflow.keras.callbacks import TensorBoard, EarlyStopping\n",
    "from tensorflow.keras.regularizers import l1,l2\n",
    "from tensorflow.keras.optimizers import SGD\n",
    "from tensorflow.keras.preprocessing.image import ImageDataGenerator"
   ]
  },
  {
   "cell_type": "code",
   "execution_count": 2,
   "metadata": {
    "execution": {
     "iopub.execute_input": "2024-11-24T10:18:28.729966Z",
     "iopub.status.busy": "2024-11-24T10:18:28.729511Z",
     "iopub.status.idle": "2024-11-24T10:18:29.533867Z",
     "shell.execute_reply": "2024-11-24T10:18:29.532998Z",
     "shell.execute_reply.started": "2024-11-24T10:18:28.729939Z"
    }
   },
   "outputs": [
    {
     "name": "stdout",
     "output_type": "stream",
     "text": [
      "Number of classes   : 10\n",
      "Shape of x_train    : (60000, 28, 28)\n",
      "Shape of y_train    : (60000,)\n",
      "Shape of x_test     : (10000, 28, 28)\n",
      "Shape of y_test     : (10000,)\n",
      "Shape of an image   : (28, 28)\n"
     ]
    }
   ],
   "source": [
    "# Class names for the Fashion MNIST dataset\n",
    "class_names = ['T-shirt/top', 'Trouser', 'Pullover', 'Dress', 'Coat','Sandal', 'Shirt', 'Sneaker', 'Bag', 'Ankle boot']\n",
    "num_classes = len(class_names)\n",
    "print(f\"Number of classes   : {num_classes}\")\n",
    "(x_train, y_train), (x_test, y_test) = fashion_mnist.load_data() #Load dataset\n",
    "\n",
    "print(f\"Shape of x_train    : {x_train.shape}\")\n",
    "print(f\"Shape of y_train    : {y_train.shape}\")\n",
    "print(f\"Shape of x_test     : {x_test.shape}\")\n",
    "print(f\"Shape of y_test     : {y_test.shape}\")\n",
    "print(f\"Shape of an image   : {x_train[6000].shape}\")"
   ]
  },
  {
   "cell_type": "markdown",
   "metadata": {},
   "source": [
    "Visualize different samples from the dataset."
   ]
  },
  {
   "cell_type": "code",
   "execution_count": 3,
   "metadata": {
    "execution": {
     "iopub.execute_input": "2024-11-24T10:18:29.535794Z",
     "iopub.status.busy": "2024-11-24T10:18:29.535394Z",
     "iopub.status.idle": "2024-11-24T10:18:30.109802Z",
     "shell.execute_reply": "2024-11-24T10:18:30.108911Z",
     "shell.execute_reply.started": "2024-11-24T10:18:29.535751Z"
    }
   },
   "outputs": [
    {
     "name": "stdout",
     "output_type": "stream",
     "text": [
      "Input image\n"
     ]
    },
    {
     "data": {
      "image/png": "[encoded data removed]",
      "text/plain": [
       "<Figure size 640x480 with 1 Axes>"
      ]
     },
     "metadata": {},
     "output_type": "display_data"
    },
    {
     "name": "stdout",
     "output_type": "stream",
     "text": [
      "Sandal\n",
      "Input image\n"
     ]
    },
    {
     "data": {
      "image/png": "[encoded data removed]",
      "text/plain": [
       "<Figure size 640x480 with 1 Axes>"
      ]
     },
     "metadata": {},
     "output_type": "display_data"
    },
    {
     "name": "stdout",
     "output_type": "stream",
     "text": [
      "Ankle boot\n",
      "Input image\n"
     ]
    },
    {
     "data": {
      "image/png": "[encoded data removed]",
      "text/plain": [
       "<Figure size 640x480 with 1 Axes>"
      ]
     },
     "metadata": {},
     "output_type": "display_data"
    },
    {
     "name": "stdout",
     "output_type": "stream",
     "text": [
      "Pullover\n"
     ]
    }
   ],
   "source": [
    "print(f\"Input image\")\n",
    "plt.imshow(x_train[60], cmap=\"gray\") #select an image from the MNIST dataset\n",
    "plt.show()\n",
    "print(class_names[y_train[60]])\n",
    "\n",
    "print(f\"Input image\")\n",
    "plt.imshow(x_train[150], cmap=\"gray\") #select an image from the MNIST dataset\n",
    "plt.show()\n",
    "print(class_names[y_train[150]])\n",
    "\n",
    "\n",
    "print(f\"Input image\")\n",
    "plt.imshow(x_train[15000], cmap=\"gray\") #select an image from the MNIST dataset\n",
    "plt.show()\n",
    "print(class_names[y_train[15000]])"
   ]
  },
  {
   "cell_type": "markdown",
   "metadata": {},
   "source": [
    "Normalization of image pixel values and conversion of the output labels to a one-hot encoded format."
   ]
  },
  {
   "cell_type": "code",
   "execution_count": 4,
   "metadata": {
    "execution": {
     "iopub.execute_input": "2024-11-24T10:18:30.111915Z",
     "iopub.status.busy": "2024-11-24T10:18:30.111652Z",
     "iopub.status.idle": "2024-11-24T10:18:30.256438Z",
     "shell.execute_reply": "2024-11-24T10:18:30.255491Z",
     "shell.execute_reply.started": "2024-11-24T10:18:30.111890Z"
    }
   },
   "outputs": [],
   "source": [
    "# Normalize the dataset\n",
    "x_train, x_test = x_train / 255.0, x_test / 255.0\n",
    "\n",
    "x_train = x_train.reshape(-1, 28, 28, 1)\n",
    "x_test = x_test.reshape(-1, 28, 28, 1)"
   ]
  },
  {
   "cell_type": "markdown",
   "metadata": {},
   "source": [
    "Model Building and Training: Construct a Neural Network using TensorFlow and Keras.\n",
    "\n",
    "● The model should consist of multiple dense layers with a significant number of neurons.\n",
    "\n",
    "● Utilize ReLU activation for hidden layers and softmax activation for the output layer.\n",
    "\n",
    "● Train the model on the prepared dataset.\n",
    "\n",
    "● Implement callbacks, particularly TensorBoard, to visualize the training process."
   ]
  },
  {
   "cell_type": "code",
   "execution_count": 5,
   "metadata": {
    "execution": {
     "iopub.execute_input": "2024-11-24T10:18:30.257853Z",
     "iopub.status.busy": "2024-11-24T10:18:30.257602Z",
     "iopub.status.idle": "2024-11-24T10:18:31.145354Z",
     "shell.execute_reply": "2024-11-24T10:18:31.144436Z",
     "shell.execute_reply.started": "2024-11-24T10:18:30.257828Z"
    }
   },
   "outputs": [],
   "source": [
    "\n",
    "# Define a deeper CNN model with padding and adjusted pooling layers\n",
    "model = Sequential([\n",
    "    Conv2D(32, (3, 3), activation=None, padding='same', input_shape=(28, 28, 1),kernel_regularizer=l2(0.001)),\n",
    "    BatchNormalization(),\n",
    "    ReLU(),\n",
    "    MaxPooling2D((2, 2)),\n",
    "    Dropout(0.2),\n",
    "    \n",
    "    Conv2D(64, (3, 3), activation=None, padding='same',kernel_regularizer=l2(0.001)),\n",
    "    BatchNormalization(),\n",
    "    ReLU(),\n",
    "    MaxPooling2D((2, 2)),\n",
    "    Dropout(0.2),\n",
    "\n",
    "    Conv2D(128, (3, 3), activation=None, padding='same',kernel_regularizer=l2(0.001)),\n",
    "    BatchNormalization(),\n",
    "    ReLU(),\n",
    "    MaxPooling2D((2, 2)),\n",
    "    Dropout(0.2),\n",
    "\n",
    "    Conv2D(256, (3, 3), activation=None, padding='same',kernel_regularizer=l2(0.001)),\n",
    "    BatchNormalization(),\n",
    "    ReLU(),\n",
    "    MaxPooling2D((2, 2)),\n",
    "    Dropout(0.2),\n",
    "    \n",
    "    Flatten(),\n",
    "    Dense(512, activation='relu'),\n",
    "    Dropout(0.2),\n",
    "\n",
    "    Dense(10, activation='softmax')\n",
    "])"
   ]
  },
  {
   "cell_type": "markdown",
   "metadata": {},
   "source": [
    "    Learning Rate Scheduler and early stopping"
   ]
  },
  {
   "cell_type": "code",
   "execution_count": 6,
   "metadata": {
    "execution": {
     "iopub.execute_input": "2024-11-24T10:18:31.146750Z",
     "iopub.status.busy": "2024-11-24T10:18:31.146434Z",
     "iopub.status.idle": "2024-11-24T10:18:31.151356Z",
     "shell.execute_reply": "2024-11-24T10:18:31.150622Z",
     "shell.execute_reply.started": "2024-11-24T10:18:31.146723Z"
    }
   },
   "outputs": [],
   "source": [
    "from tensorflow.keras.callbacks import LearningRateScheduler\n",
    "\n",
    "def scheduler(epoch, lr):\n",
    "    if epoch < 10:\n",
    "        return float(lr)\n",
    "    else:\n",
    "        return float(lr * tf.math.exp(-0.1))\n",
    "\n",
    "lr_callback = LearningRateScheduler(scheduler)\n",
    "\n",
    "\n",
    "early_stopping = EarlyStopping(monitor='val_loss', patience=5, restore_best_weights=True)\n"
   ]
  },
  {
   "cell_type": "markdown",
   "metadata": {},
   "source": [
    "Training:\n",
    "\n",
    "Implement callbacks, particularly TensorBoard, to visualize the training process.\n",
    "\n",
    "Track accuracy as a performance metric"
   ]
  },
  {
   "cell_type": "code",
   "execution_count": 7,
   "metadata": {
    "execution": {
     "iopub.execute_input": "2024-11-24T10:18:56.115786Z",
     "iopub.status.busy": "2024-11-24T10:18:56.115269Z",
     "iopub.status.idle": "2024-11-24T10:42:58.984432Z",
     "shell.execute_reply": "2024-11-24T10:42:58.983753Z",
     "shell.execute_reply.started": "2024-11-24T10:18:56.115743Z"
    }
   },
   "outputs": [
    {
     "name": "stdout",
     "output_type": "stream",
     "text": [
      "Epoch 1/100\n",
      "118/118 [==============================] - 101s 802ms/step - loss: 1.1516 - accuracy: 0.6835 - val_loss: 3.3865 - val_accuracy: 0.1738 - lr: 0.0010\n",
      "Epoch 2/100\n",
      "118/118 [==============================] - 97s 815ms/step - loss: 0.7763 - accuracy: 0.7832 - val_loss: 3.5146 - val_accuracy: 0.2401 - lr: 0.0010\n",
      "Epoch 3/100\n",
      "118/118 [==============================] - 83s 696ms/step - loss: 0.6596 - accuracy: 0.8147 - val_loss: 2.1398 - val_accuracy: 0.3544 - lr: 0.0010\n",
      "Epoch 4/100\n",
      "118/118 [==============================] - 82s 695ms/step - loss: 0.5964 - accuracy: 0.8325 - val_loss: 0.8447 - val_accuracy: 0.7193 - lr: 0.0010\n",
      "Epoch 5/100\n",
      "118/118 [==============================] - 83s 700ms/step - loss: 0.5562 - accuracy: 0.8411 - val_loss: 0.7809 - val_accuracy: 0.7628 - lr: 0.0010\n",
      "Epoch 6/100\n",
      "118/118 [==============================] - 102s 861ms/step - loss: 0.5308 - accuracy: 0.8466 - val_loss: 0.6345 - val_accuracy: 0.7923 - lr: 0.0010\n",
      "Epoch 7/100\n",
      "118/118 [==============================] - 96s 807ms/step - loss: 0.5124 - accuracy: 0.8519 - val_loss: 0.5787 - val_accuracy: 0.8155 - lr: 0.0010\n",
      "Epoch 8/100\n",
      "118/118 [==============================] - 79s 666ms/step - loss: 0.5011 - accuracy: 0.8544 - val_loss: 0.4730 - val_accuracy: 0.8664 - lr: 0.0010\n",
      "Epoch 9/100\n",
      "118/118 [==============================] - 82s 694ms/step - loss: 0.4882 - accuracy: 0.8589 - val_loss: 0.4353 - val_accuracy: 0.8743 - lr: 0.0010\n",
      "Epoch 10/100\n",
      "118/118 [==============================] - 76s 642ms/step - loss: 0.4775 - accuracy: 0.8611 - val_loss: 0.4748 - val_accuracy: 0.8607 - lr: 0.0010\n",
      "Epoch 11/100\n",
      "118/118 [==============================] - 80s 676ms/step - loss: 0.4605 - accuracy: 0.8682 - val_loss: 0.4546 - val_accuracy: 0.8630 - lr: 9.0484e-04\n",
      "Epoch 12/100\n",
      "118/118 [==============================] - 69s 580ms/step - loss: 0.4466 - accuracy: 0.8720 - val_loss: 0.4210 - val_accuracy: 0.8832 - lr: 8.1873e-04\n",
      "Epoch 13/100\n",
      "118/118 [==============================] - 74s 624ms/step - loss: 0.4329 - accuracy: 0.8767 - val_loss: 0.3827 - val_accuracy: 0.8932 - lr: 7.4082e-04\n",
      "Epoch 14/100\n",
      "118/118 [==============================] - 74s 621ms/step - loss: 0.4195 - accuracy: 0.8787 - val_loss: 0.4506 - val_accuracy: 0.8566 - lr: 6.7032e-04\n",
      "Epoch 15/100\n",
      "118/118 [==============================] - 82s 697ms/step - loss: 0.4084 - accuracy: 0.8817 - val_loss: 0.4623 - val_accuracy: 0.8514 - lr: 6.0653e-04\n",
      "Epoch 16/100\n",
      "118/118 [==============================] - 76s 640ms/step - loss: 0.3981 - accuracy: 0.8839 - val_loss: 0.3942 - val_accuracy: 0.8873 - lr: 5.4881e-04\n",
      "Epoch 17/100\n",
      "118/118 [==============================] - 81s 687ms/step - loss: 0.3902 - accuracy: 0.8871 - val_loss: 0.3660 - val_accuracy: 0.8947 - lr: 4.9659e-04\n",
      "Epoch 18/100\n",
      "118/118 [==============================] - 76s 637ms/step - loss: 0.3791 - accuracy: 0.8893 - val_loss: 0.3993 - val_accuracy: 0.8784 - lr: 4.4933e-04\n",
      "Epoch 19/100\n",
      "118/118 [==============================] - 79s 671ms/step - loss: 0.3701 - accuracy: 0.8917 - val_loss: 0.3485 - val_accuracy: 0.8963 - lr: 4.0657e-04\n",
      "Epoch 20/100\n",
      "118/118 [==============================] - 77s 654ms/step - loss: 0.3638 - accuracy: 0.8925 - val_loss: 0.3371 - val_accuracy: 0.9025 - lr: 3.6788e-04\n",
      "Epoch 21/100\n",
      "118/118 [==============================] - 69s 581ms/step - loss: 0.3567 - accuracy: 0.8943 - val_loss: 0.3432 - val_accuracy: 0.9004 - lr: 3.3287e-04\n",
      "Epoch 22/100\n",
      "118/118 [==============================] - 79s 673ms/step - loss: 0.3494 - accuracy: 0.8969 - val_loss: 0.3271 - val_accuracy: 0.9056 - lr: 3.0119e-04\n",
      "Epoch 23/100\n",
      "118/118 [==============================] - 68s 571ms/step - loss: 0.3416 - accuracy: 0.8989 - val_loss: 0.3188 - val_accuracy: 0.9080 - lr: 2.7253e-04\n",
      "Epoch 24/100\n",
      "118/118 [==============================] - 69s 583ms/step - loss: 0.3389 - accuracy: 0.8996 - val_loss: 0.3071 - val_accuracy: 0.9120 - lr: 2.4660e-04\n",
      "Epoch 25/100\n",
      "118/118 [==============================] - 72s 610ms/step - loss: 0.3320 - accuracy: 0.9012 - val_loss: 0.3025 - val_accuracy: 0.9113 - lr: 2.2313e-04\n",
      "Epoch 26/100\n",
      "118/118 [==============================] - 65s 547ms/step - loss: 0.3265 - accuracy: 0.9027 - val_loss: 0.2922 - val_accuracy: 0.9151 - lr: 2.0190e-04\n",
      "Epoch 27/100\n",
      "118/118 [==============================] - 66s 557ms/step - loss: 0.3232 - accuracy: 0.9040 - val_loss: 0.3098 - val_accuracy: 0.9065 - lr: 1.8268e-04\n",
      "Epoch 28/100\n",
      "118/118 [==============================] - 68s 578ms/step - loss: 0.3181 - accuracy: 0.9049 - val_loss: 0.3098 - val_accuracy: 0.9070 - lr: 1.6530e-04\n",
      "Epoch 29/100\n",
      "118/118 [==============================] - 75s 633ms/step - loss: 0.3173 - accuracy: 0.9050 - val_loss: 0.3027 - val_accuracy: 0.9081 - lr: 1.4957e-04\n",
      "Epoch 30/100\n",
      "118/118 [==============================] - 72s 605ms/step - loss: 0.3115 - accuracy: 0.9071 - val_loss: 0.2980 - val_accuracy: 0.9100 - lr: 1.3534e-04\n",
      "Epoch 31/100\n",
      "118/118 [==============================] - 69s 580ms/step - loss: 0.3094 - accuracy: 0.9074 - val_loss: 0.3030 - val_accuracy: 0.9080 - lr: 1.2246e-04\n"
     ]
    }
   ],
   "source": [
    "model.compile(optimizer=tf.keras.optimizers.RMSprop(learning_rate=0.001), loss=\"sparse_categorical_crossentropy\", metrics=[\"accuracy\"])\n",
    "\n",
    "# Define TensorBoard callback\n",
    "log_dir = \"logs/fit/\" + datetime.datetime.now().strftime(\"%Y%m%d-%H%M%S\")\n",
    "tensorboard_callback = TensorBoard(log_dir=log_dir, histogram_freq=1)\n",
    "\n",
    "datagen = ImageDataGenerator(rotation_range=20,zoom_range=0.1,horizontal_flip=True,fill_mode='nearest')\n",
    "datagen.fit(x_train)\n",
    "model.fit(datagen.flow(x_train, y_train, batch_size=512),epochs=100, validation_data=(x_test, y_test),callbacks=[tensorboard_callback,lr_callback,early_stopping])\n",
    "\n",
    "#Track accuracy\n",
    "train_loss = model.history.history[\"loss\"]\n",
    "val_loss = model.history.history[\"val_loss\"]\n",
    "\n",
    "train_acc = model.history.history[\"accuracy\"]\n",
    "val_acc = model.history.history[\"val_accuracy\"]"
   ]
  },
  {
   "cell_type": "markdown",
   "metadata": {},
   "source": [
    "Implement callbacks, particularly TensorBoard, to visualize the training process."
   ]
  },
  {
   "cell_type": "code",
   "execution_count": 8,
   "metadata": {
    "execution": {
     "iopub.execute_input": "2024-11-24T10:45:56.350929Z",
     "iopub.status.busy": "2024-11-24T10:45:56.350083Z",
     "iopub.status.idle": "2024-11-24T10:46:01.379839Z",
     "shell.execute_reply": "2024-11-24T10:46:01.378804Z",
     "shell.execute_reply.started": "2024-11-24T10:45:56.350893Z"
    }
   },
   "outputs": [
    {
     "data": {
      "text/plain": [
       "Reusing TensorBoard on port 6008 (pid 1628), started 1:03:03 ago. (Use '!kill 1628' to kill it.)"
      ]
     },
     "metadata": {},
     "output_type": "display_data"
    },
    {
     "data": {
      "text/html": [
       "\n",
       "      <iframe id=\"tensorboard-frame-5d4dccd7335cff70\" width=\"100%\" height=\"800\" frameborder=\"0\">\n",
       "      </iframe>\n",
       "      <script>\n",
       "        (function() {\n",
       "          const frame = document.getElementById(\"tensorboard-frame-5d4dccd7335cff70\");\n",
       "          const url = new URL(\"http://localhost\");\n",
       "          const port = 6008;\n",
       "          if (port) {\n",
       "            url.port = port;\n",
       "          }\n",
       "          frame.src = url;\n",
       "        })();\n",
       "      </script>\n",
       "    "
      ],
      "text/plain": [
       "<IPython.core.display.HTML object>"
      ]
     },
     "metadata": {},
     "output_type": "display_data"
    }
   ],
   "source": [
    "#!pip install tensorboard\n",
    "#%load_ext tensorboard\n",
    "\n",
    "%reload_ext tensorboard\n",
    "#start TensorBoard\n",
    "%tensorboard --logdir logs/fit --port=6008\n",
    "\n",
    "#http://localhost:6006/"
   ]
  },
  {
   "cell_type": "markdown",
   "metadata": {},
   "source": [
    "Model Evaluation and Analysis:\n",
    "\n",
    "● Evaluate the model's performance using a validation set.\n",
    "\n",
    "● Analyze the training process with the help of TensorBoard.\n",
    "\n",
    "● Save the trained model, including its architecture and learned weights."
   ]
  },
  {
   "cell_type": "code",
   "execution_count": 9,
   "metadata": {
    "execution": {
     "iopub.execute_input": "2024-11-24T10:46:24.808262Z",
     "iopub.status.busy": "2024-11-24T10:46:24.807937Z",
     "iopub.status.idle": "2024-11-24T10:46:25.564530Z",
     "shell.execute_reply": "2024-11-24T10:46:25.563716Z",
     "shell.execute_reply.started": "2024-11-24T10:46:24.808234Z"
    }
   },
   "outputs": [
    {
     "name": "stdout",
     "output_type": "stream",
     "text": [
      "313/313 [==============================] - 5s 13ms/step - loss: 0.2922 - accuracy: 0.9151\n",
      "Test accuracy: 0.9151\n",
      "Model: \"sequential\"\n",
      "_________________________________________________________________\n",
      " Layer (type)                Output Shape              Param #   \n",
      "=================================================================\n",
      " conv2d (Conv2D)             (None, 28, 28, 32)        320       \n",
      "                                                                 \n",
      " batch_normalization (BatchN  (None, 28, 28, 32)       128       \n",
      " ormalization)                                                   \n",
      "                                                                 \n",
      " re_lu (ReLU)                (None, 28, 28, 32)        0         \n",
      "                                                                 \n",
      " max_pooling2d (MaxPooling2D  (None, 14, 14, 32)       0         \n",
      " )                                                               \n",
      "                                                                 \n",
      " dropout (Dropout)           (None, 14, 14, 32)        0         \n",
      "                                                                 \n",
      " conv2d_1 (Conv2D)           (None, 14, 14, 64)        18496     \n",
      "                                                                 \n",
      " batch_normalization_1 (Batc  (None, 14, 14, 64)       256       \n",
      " hNormalization)                                                 \n",
      "                                                                 \n",
      " re_lu_1 (ReLU)              (None, 14, 14, 64)        0         \n",
      "                                                                 \n",
      " max_pooling2d_1 (MaxPooling  (None, 7, 7, 64)         0         \n",
      " 2D)                                                             \n",
      "                                                                 \n",
      " dropout_1 (Dropout)         (None, 7, 7, 64)          0         \n",
      "                                                                 \n",
      " conv2d_2 (Conv2D)           (None, 7, 7, 128)         73856     \n",
      "                                                                 \n",
      " batch_normalization_2 (Batc  (None, 7, 7, 128)        512       \n",
      " hNormalization)                                                 \n",
      "                                                                 \n",
      " re_lu_2 (ReLU)              (None, 7, 7, 128)         0         \n",
      "                                                                 \n",
      " max_pooling2d_2 (MaxPooling  (None, 3, 3, 128)        0         \n",
      " 2D)                                                             \n",
      "                                                                 \n",
      " dropout_2 (Dropout)         (None, 3, 3, 128)         0         \n",
      "                                                                 \n",
      " conv2d_3 (Conv2D)           (None, 3, 3, 256)         295168    \n",
      "                                                                 \n",
      " batch_normalization_3 (Batc  (None, 3, 3, 256)        1024      \n",
      " hNormalization)                                                 \n",
      "                                                                 \n",
      " re_lu_3 (ReLU)              (None, 3, 3, 256)         0         \n",
      "                                                                 \n",
      " max_pooling2d_3 (MaxPooling  (None, 1, 1, 256)        0         \n",
      " 2D)                                                             \n",
      "                                                                 \n",
      " dropout_3 (Dropout)         (None, 1, 1, 256)         0         \n",
      "                                                                 \n",
      " flatten (Flatten)           (None, 256)               0         \n",
      "                                                                 \n",
      " dense (Dense)               (None, 512)               131584    \n",
      "                                                                 \n",
      " dropout_4 (Dropout)         (None, 512)               0         \n",
      "                                                                 \n",
      " dense_1 (Dense)             (None, 10)                5130      \n",
      "                                                                 \n",
      "=================================================================\n",
      "Total params: 526,474\n",
      "Trainable params: 525,514\n",
      "Non-trainable params: 960\n",
      "_________________________________________________________________\n"
     ]
    }
   ],
   "source": [
    "# Evaluate the model\n",
    "from keras.models import load_model \n",
    "import h5py\n",
    "\n",
    "model.save(\"fashion_mnist_post_modeling.keras\") \n",
    "fashion_mnist_model = load_model(\"fashion_mnist_post_modeling.keras\") \n",
    "#loss, accuracy = loaded_model.evaluate(test_data, test_targets) \n",
    "\n",
    "test_loss, test_accuracy = fashion_mnist_model.evaluate(x_test, y_test)\n",
    "print(f\"Test accuracy: {test_accuracy:.4f}\")\n",
    "model.summary()"
   ]
  },
  {
   "cell_type": "code",
   "execution_count": 10,
   "metadata": {
    "execution": {
     "iopub.execute_input": "2024-11-24T10:46:30.019857Z",
     "iopub.status.busy": "2024-11-24T10:46:30.019478Z",
     "iopub.status.idle": "2024-11-24T10:46:31.345206Z",
     "shell.execute_reply": "2024-11-24T10:46:31.344257Z",
     "shell.execute_reply.started": "2024-11-24T10:46:30.019827Z"
    }
   },
   "outputs": [
    {
     "name": "stdout",
     "output_type": "stream",
     "text": [
      "313/313 [==============================] - 5s 13ms/step\n",
      "Shape of preds: (10000, 10)\n",
      "Shape of y_test: (10000,)\n",
      "Shape of preds_class: (10000,)\n"
     ]
    }
   ],
   "source": [
    "preds = model.predict(x_test)\n",
    "preds_class = np.argmax(preds, axis=1)\n",
    "\n",
    "print(f\"Shape of preds: {preds.shape}\")\n",
    "print(f\"Shape of y_test: {y_test.shape}\")\n",
    "print(f\"Shape of preds_class: {preds_class.shape}\")"
   ]
  },
  {
   "cell_type": "markdown",
   "metadata": {},
   "source": [
    "Analysis:\n",
    "\n",
    "Analyze the results, understand the model's performance, and explore ways to improve it if necessary.\n",
    "\n",
    "Peformance Evaluation:\n",
    "\n",
    "Assess the model’s performance using both training and validation datasets."
   ]
  },
  {
   "cell_type": "code",
   "execution_count": 11,
   "metadata": {
    "execution": {
     "iopub.execute_input": "2024-11-24T10:46:34.506077Z",
     "iopub.status.busy": "2024-11-24T10:46:34.505751Z",
     "iopub.status.idle": "2024-11-24T10:46:34.699414Z",
     "shell.execute_reply": "2024-11-24T10:46:34.698539Z",
     "shell.execute_reply.started": "2024-11-24T10:46:34.506046Z"
    }
   },
   "outputs": [
    {
     "data": {
      "image/png": "[encoded data removed]",
      "text/plain": [
       "<Figure size 640x480 with 1 Axes>"
      ]
     },
     "metadata": {},
     "output_type": "display_data"
    }
   ],
   "source": [
    "plt.plot(train_loss)\n",
    "plt.plot(val_loss)\n",
    "plt.xlabel(\"Epoch\")\n",
    "plt.ylabel(\"Loss\")\n",
    "plt.title(\"Loss Curves\")\n",
    "plt.legend([\"Train\", \"Val\"])\n",
    "plt.grid()\n",
    "plt.show()"
   ]
  },
  {
   "cell_type": "markdown",
   "metadata": {},
   "source": [
    "Visualize the training and validation loss and accuracy to identify any signs of overfitting or underfitting."
   ]
  },
  {
   "cell_type": "code",
   "execution_count": 12,
   "metadata": {
    "execution": {
     "iopub.execute_input": "2024-11-24T10:46:38.748854Z",
     "iopub.status.busy": "2024-11-24T10:46:38.748184Z",
     "iopub.status.idle": "2024-11-24T10:46:38.996356Z",
     "shell.execute_reply": "2024-11-24T10:46:38.995560Z",
     "shell.execute_reply.started": "2024-11-24T10:46:38.748819Z"
    }
   },
   "outputs": [
    {
     "data": {
      "image/png": "[encoded data removed]",
      "text/plain": [
       "<Figure size 640x480 with 1 Axes>"
      ]
     },
     "metadata": {},
     "output_type": "display_data"
    }
   ],
   "source": [
    "plt.plot(train_acc)\n",
    "plt.plot(val_acc)\n",
    "plt.xlabel(\"Epoch\")\n",
    "plt.ylabel(\"Accuracy\")\n",
    "plt.ylim(0,1.1)\n",
    "plt.title(\"Accuracy Curves\")\n",
    "plt.legend([\"Train\", \"Val\"])\n",
    "plt.grid()\n",
    "plt.show()"
   ]
  },
  {
   "cell_type": "code",
   "execution_count": 13,
   "metadata": {
    "execution": {
     "iopub.execute_input": "2024-11-24T10:46:42.869737Z",
     "iopub.status.busy": "2024-11-24T10:46:42.869363Z",
     "iopub.status.idle": "2024-11-24T10:46:43.074225Z",
     "shell.execute_reply": "2024-11-24T10:46:43.073414Z",
     "shell.execute_reply.started": "2024-11-24T10:46:42.869704Z"
    }
   },
   "outputs": [
    {
     "data": {
      "image/png": "[encoded data removed]",
      "text/plain": [
       "<Figure size 640x480 with 1 Axes>"
      ]
     },
     "metadata": {},
     "output_type": "display_data"
    },
    {
     "name": "stdout",
     "output_type": "stream",
     "text": [
      "Coat\n"
     ]
    }
   ],
   "source": [
    "plt.imshow(x_test[150].reshape(28,28), cmap=\"gray\")\n",
    "plt.show()\n",
    "print(class_names[y_test[150]])"
   ]
  },
  {
   "cell_type": "code",
   "execution_count": 14,
   "metadata": {
    "execution": {
     "iopub.execute_input": "2024-11-24T10:46:46.312063Z",
     "iopub.status.busy": "2024-11-24T10:46:46.311338Z",
     "iopub.status.idle": "2024-11-24T10:46:46.344369Z",
     "shell.execute_reply": "2024-11-24T10:46:46.343366Z",
     "shell.execute_reply.started": "2024-11-24T10:46:46.312006Z"
    }
   },
   "outputs": [
    {
     "name": "stdout",
     "output_type": "stream",
     "text": [
      "              precision    recall  f1-score   support\n",
      "\n",
      "           0       0.88      0.86      0.87      1000\n",
      "           1       0.99      0.99      0.99      1000\n",
      "           2       0.90      0.86      0.88      1000\n",
      "           3       0.92      0.91      0.91      1000\n",
      "           4       0.86      0.86      0.86      1000\n",
      "           5       0.99      0.98      0.98      1000\n",
      "           6       0.72      0.79      0.75      1000\n",
      "           7       0.94      0.98      0.96      1000\n",
      "           8       0.98      0.99      0.99      1000\n",
      "           9       0.98      0.95      0.96      1000\n",
      "\n",
      "    accuracy                           0.92     10000\n",
      "   macro avg       0.92      0.92      0.92     10000\n",
      "weighted avg       0.92      0.92      0.92     10000\n",
      "\n"
     ]
    }
   ],
   "source": [
    "print(classification_report(y_test, preds_class))"
   ]
  },
  {
   "cell_type": "code",
   "execution_count": 15,
   "metadata": {
    "execution": {
     "iopub.execute_input": "2024-11-24T10:46:50.939724Z",
     "iopub.status.busy": "2024-11-24T10:46:50.939280Z",
     "iopub.status.idle": "2024-11-24T10:46:50.947127Z",
     "shell.execute_reply": "2024-11-24T10:46:50.946279Z",
     "shell.execute_reply.started": "2024-11-24T10:46:50.939690Z"
    }
   },
   "outputs": [
    {
     "name": "stdout",
     "output_type": "stream",
     "text": [
      "[[856   0  12  14   3   0 108   0   7   0]\n",
      " [  1 987   0   8   0   0   3   0   1   0]\n",
      " [ 15   0 858   6  49   0  72   0   0   0]\n",
      " [ 11   7   6 905  22   1  45   0   3   0]\n",
      " [  0   1  34  33 858   0  73   0   1   0]\n",
      " [  0   0   0   0   0 982   0  15   0   3]\n",
      " [ 85   2  40  19  64   0 785   0   5   0]\n",
      " [  0   0   0   0   0   4   0 985   0  11]\n",
      " [  1   0   0   4   0   2   1   2 989   1]\n",
      " [  0   0   0   0   0   5   1  48   0 946]]\n"
     ]
    }
   ],
   "source": [
    "print(confusion_matrix(y_test, preds_class))"
   ]
  },
  {
   "cell_type": "code",
   "execution_count": 16,
   "metadata": {},
   "outputs": [],
   "source": [
    "# Required to save models in HDF5 format\n",
    "#!pip install pyyaml h5py\n",
    "#!pip uninstall h5py\n",
    "#!pip install h5py --no-cache-dir\n",
    "\n",
    "#print(tf.version.VERSION)"
   ]
  },
  {
   "cell_type": "code",
   "execution_count": 17,
   "metadata": {},
   "outputs": [],
   "source": [
    "#!python --version\n",
    "#!pip show h5py\n"
   ]
  }
 ],
 "metadata": {
  "kaggle": {
   "accelerator": "nvidiaTeslaT4",
   "dataSources": [],
   "dockerImageVersionId": 30788,
   "isGpuEnabled": true,
   "isInternetEnabled": true,
   "language": "python",
   "sourceType": "notebook"
  },
  "kernelspec": {
   "display_name": "tf_env",
   "language": "python",
   "name": "python3"
  },
  "language_info": {
   "codemirror_mode": {
    "name": "ipython",
    "version": 3
   },
   "file_extension": ".py",
   "mimetype": "text/x-python",
   "name": "python",
   "nbconvert_exporter": "python",
   "pygments_lexer": "ipython3",
   "version": "3.9.20"
  }
 },
 "nbformat": 4,
 "nbformat_minor": 4
}
