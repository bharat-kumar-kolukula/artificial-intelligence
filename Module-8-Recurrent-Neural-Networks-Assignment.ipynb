{
 "cells": [
  {
   "cell_type": "markdown",
   "metadata": {},
   "source": [
    "Problem Statement:\n",
    "Build a sentiment analysis model using Recurrent Neural Networks (RNNs) t \n",
    "classify movie reviews from the IMDB dataset into positive or negative\n",
    "sentiments.\n",
    "Dataset:\n",
    "The dataset comprises 25,000 movie reviews from IMDB, labeled by sent ment\n",
    "(positive/negative). Reviews have been preprocessed, and each review is\n",
    "encoded as a sequence of word indices (integers). The words in the data et are\n",
    "indexed by overall frequency in the dataset, allowing for quick filtering op rations\n",
    "such as: \"only consider the top 10,000 most common words, but eliminat  the top\n",
    "20 most common words\".\n",
    "\n",
    "Data Preprocessing: Load  IMDB dataset, keeping only the top 10,000 most requenty \n",
    "occurring words"
   ]
  },
  {
   "cell_type": "code",
   "execution_count": 1,
   "metadata": {
    "execution": {
     "iopub.execute_input": "2024-11-29T10:05:58.523023Z",
     "iopub.status.busy": "2024-11-29T10:05:58.522648Z",
     "iopub.status.idle": "2024-11-29T10:06:11.481704Z",
     "shell.execute_reply": "2024-11-29T10:06:11.481005Z",
     "shell.execute_reply.started": "2024-11-29T10:05:58.522993Z"
    },
    "id": "z682XYsrjkY9",
    "trusted": true
   },
   "outputs": [],
   "source": [
    "import numpy as np\n",
    "import tensorflow_datasets as tfds\n",
    "import tensorflow as tf\n",
    "import matplotlib.pyplot as plt\n",
    "\n",
    "from tensorflow.keras.models import Sequential\n",
    "from tensorflow.keras.layers import Embedding, SimpleRNN, Dense,Dropout\n",
    "from tensorflow.keras import regularizers\n",
    "from tensorflow.keras.callbacks import EarlyStopping"
   ]
  },
  {
   "cell_type": "code",
   "execution_count": 2,
   "metadata": {
    "execution": {
     "iopub.execute_input": "2024-11-29T10:06:11.483547Z",
     "iopub.status.busy": "2024-11-29T10:06:11.483054Z",
     "iopub.status.idle": "2024-11-29T10:07:02.269965Z",
     "shell.execute_reply": "2024-11-29T10:07:02.269103Z",
     "shell.execute_reply.started": "2024-11-29T10:06:11.483519Z"
    },
    "id": "SHRwRoP2nVHX",
    "outputId": "ddafc6d8-1f87-4302-f07b-baa3d6077a41",
    "trusted": true
   },
   "outputs": [
    {
     "name": "stdout",
     "output_type": "stream",
     "text": [
      "\u001b[1mDownloading and preparing dataset 80.23 MiB (download: 80.23 MiB, generated: Unknown size, total: 80.23 MiB) to /root/tensorflow_datasets/imdb_reviews/plain_text/1.0.0...\u001b[0m\n"
     ]
    },
    {
     "data": {
      "application/vnd.jupyter.widget-view+json": {
       "model_id": "9269ca663b8f4e92ab9fa9e295a2a6c9",
       "version_major": 2,
       "version_minor": 0
      },
      "text/plain": [
       "Dl Completed...: 0 url [00:00, ? url/s]"
      ]
     },
     "metadata": {},
     "output_type": "display_data"
    },
    {
     "data": {
      "application/vnd.jupyter.widget-view+json": {
       "model_id": "3474bbfbf9214c9db4ad9106a78ae0f6",
       "version_major": 2,
       "version_minor": 0
      },
      "text/plain": [
       "Dl Size...: 0 MiB [00:00, ? MiB/s]"
      ]
     },
     "metadata": {},
     "output_type": "display_data"
    },
    {
     "data": {
      "application/vnd.jupyter.widget-view+json": {
       "model_id": "c19ceca4874c44a8bb61b270816ba5f5",
       "version_major": 2,
       "version_minor": 0
      },
      "text/plain": [
       "Generating splits...:   0%|          | 0/3 [00:00<?, ? splits/s]"
      ]
     },
     "metadata": {},
     "output_type": "display_data"
    },
    {
     "data": {
      "application/vnd.jupyter.widget-view+json": {
       "model_id": "1d9b1f8a57ba48dc98913efee97d234e",
       "version_major": 2,
       "version_minor": 0
      },
      "text/plain": [
       "Generating train examples...:   0%|          | 0/25000 [00:00<?, ? examples/s]"
      ]
     },
     "metadata": {},
     "output_type": "display_data"
    },
    {
     "data": {
      "application/vnd.jupyter.widget-view+json": {
       "model_id": "b388ab00eeb34ea5ab10d707a1bb6c36",
       "version_major": 2,
       "version_minor": 0
      },
      "text/plain": [
       "Shuffling /root/tensorflow_datasets/imdb_reviews/plain_text/incomplete.JPE0T3_1.0.0/imdb_reviews-train.tfrecor…"
      ]
     },
     "metadata": {},
     "output_type": "display_data"
    },
    {
     "data": {
      "application/vnd.jupyter.widget-view+json": {
       "model_id": "9a2cd335b3f943f8b37629dfcfcc83e3",
       "version_major": 2,
       "version_minor": 0
      },
      "text/plain": [
       "Generating test examples...:   0%|          | 0/25000 [00:00<?, ? examples/s]"
      ]
     },
     "metadata": {},
     "output_type": "display_data"
    },
    {
     "data": {
      "application/vnd.jupyter.widget-view+json": {
       "model_id": "0aeb1e3e6214424e946ff38a070fe193",
       "version_major": 2,
       "version_minor": 0
      },
      "text/plain": [
       "Shuffling /root/tensorflow_datasets/imdb_reviews/plain_text/incomplete.JPE0T3_1.0.0/imdb_reviews-test.tfrecord…"
      ]
     },
     "metadata": {},
     "output_type": "display_data"
    },
    {
     "data": {
      "application/vnd.jupyter.widget-view+json": {
       "model_id": "77d19606baa044179977b5c61928b872",
       "version_major": 2,
       "version_minor": 0
      },
      "text/plain": [
       "Generating unsupervised examples...:   0%|          | 0/50000 [00:00<?, ? examples/s]"
      ]
     },
     "metadata": {},
     "output_type": "display_data"
    },
    {
     "data": {
      "application/vnd.jupyter.widget-view+json": {
       "model_id": "52d7940a282b4e3e8af254a261a0a22b",
       "version_major": 2,
       "version_minor": 0
      },
      "text/plain": [
       "Shuffling /root/tensorflow_datasets/imdb_reviews/plain_text/incomplete.JPE0T3_1.0.0/imdb_reviews-unsupervised.…"
      ]
     },
     "metadata": {},
     "output_type": "display_data"
    },
    {
     "name": "stdout",
     "output_type": "stream",
     "text": [
      "\u001b[1mDataset imdb_reviews downloaded and prepared to /root/tensorflow_datasets/imdb_reviews/plain_text/1.0.0. Subsequent calls will reuse this data.\u001b[0m\n"
     ]
    },
    {
     "data": {
      "text/plain": [
       "(TensorSpec(shape=(), dtype=tf.string, name=None),\n",
       " TensorSpec(shape=(), dtype=tf.int64, name=None))"
      ]
     },
     "execution_count": 2,
     "metadata": {},
     "output_type": "execute_result"
    }
   ],
   "source": [
    "dataset, info = tfds.load('imdb_reviews', with_info=True,as_supervised=True)\n",
    "train_dataset, test_dataset = dataset['train'], dataset['test']\n",
    "\n",
    "train_dataset.element_spec"
   ]
  },
  {
   "cell_type": "code",
   "execution_count": 3,
   "metadata": {
    "execution": {
     "iopub.execute_input": "2024-11-29T10:07:02.271229Z",
     "iopub.status.busy": "2024-11-29T10:07:02.270969Z",
     "iopub.status.idle": "2024-11-29T10:07:02.274998Z",
     "shell.execute_reply": "2024-11-29T10:07:02.274165Z",
     "shell.execute_reply.started": "2024-11-29T10:07:02.271203Z"
    },
    "trusted": true
   },
   "outputs": [],
   "source": [
    "BUFFER_SIZE = 10000\n",
    "BATCH_SIZE = 128\n",
    "VOCAB_SIZE = 10000"
   ]
  },
  {
   "cell_type": "markdown",
   "metadata": {
    "id": "nWA4c2ir7g6p"
   },
   "source": [
    "Initially this returns a dataset of (text, label pairs):"
   ]
  },
  {
   "cell_type": "code",
   "execution_count": 4,
   "metadata": {
    "execution": {
     "iopub.execute_input": "2024-11-29T10:07:02.277242Z",
     "iopub.status.busy": "2024-11-29T10:07:02.276991Z",
     "iopub.status.idle": "2024-11-29T10:07:02.362577Z",
     "shell.execute_reply": "2024-11-29T10:07:02.361629Z",
     "shell.execute_reply.started": "2024-11-29T10:07:02.277218Z"
    },
    "id": "vd4_BGKyurao",
    "outputId": "b45bb043-e313-46d3-8b46-3da1d595b6bc",
    "trusted": true
   },
   "outputs": [
    {
     "name": "stdout",
     "output_type": "stream",
     "text": [
      "text:  b\"This was an absolutely terrible movie. Don't be lured in by Christopher Walken or Michael Ironside. Both are great actors, but this must simply be their worst role in history. Even their great acting could not redeem this movie's ridiculous storyline. This movie is an early nineties US propaganda piece. The most pathetic scenes were those when the Columbian rebels were making their cases for revolutions. Maria Conchita Alonso appeared phony, and her pseudo-love affair with Walken was nothing but a pathetic emotional plug in a movie that was devoid of any real meaning. I am disappointed that there are movies like this, ruining actor's like Christopher Walken's good name. I could barely sit through it.\"\n",
      "label:  0\n"
     ]
    }
   ],
   "source": [
    "for example, label in train_dataset.take(1):\n",
    "  print('text: ', example.numpy())\n",
    "  print('label: ', label.numpy())"
   ]
  },
  {
   "cell_type": "markdown",
   "metadata": {
    "id": "z2qVJzcEluH_"
   },
   "source": [
    "Next shuffle the data for training and create batches of these `(text, label)` pairs:"
   ]
  },
  {
   "cell_type": "code",
   "execution_count": 5,
   "metadata": {
    "execution": {
     "iopub.execute_input": "2024-11-29T10:07:02.364009Z",
     "iopub.status.busy": "2024-11-29T10:07:02.363704Z",
     "iopub.status.idle": "2024-11-29T10:07:02.377325Z",
     "shell.execute_reply": "2024-11-29T10:07:02.376700Z",
     "shell.execute_reply.started": "2024-11-29T10:07:02.363983Z"
    },
    "id": "VznrltNOnUc5",
    "trusted": true
   },
   "outputs": [],
   "source": [
    "train_dataset = train_dataset.shuffle(BUFFER_SIZE).batch(BATCH_SIZE).prefetch(tf.data.AUTOTUNE)\n",
    "test_dataset = test_dataset.batch(BATCH_SIZE).prefetch(tf.data.AUTOTUNE)"
   ]
  },
  {
   "cell_type": "code",
   "execution_count": 6,
   "metadata": {
    "execution": {
     "iopub.execute_input": "2024-11-29T10:07:02.378366Z",
     "iopub.status.busy": "2024-11-29T10:07:02.378137Z",
     "iopub.status.idle": "2024-11-29T10:07:02.751140Z",
     "shell.execute_reply": "2024-11-29T10:07:02.750113Z",
     "shell.execute_reply.started": "2024-11-29T10:07:02.378343Z"
    },
    "id": "jqkvdcFv41wC",
    "outputId": "1cbc6466-21c5-4774-d79c-024faf2be4d6",
    "trusted": true
   },
   "outputs": [
    {
     "name": "stdout",
     "output_type": "stream",
     "text": [
      "texts:  [b\"I have been familiar with the fantastic book of 'Goodnight Mister Tom' for absolutely ages and it was only recently when I got the chance to watch this adaption of it. I have heard lots of positive remarks about this, so I had high hopes. Once this film had finished, I was horrified.<br /><br />This film is not a good film at all. 'Goodnight Mister Tom' was an extremely poor adaption and practically 4.5/10 of the book was missed out. Particularly, I found that a lot of the characters and some great scenes in the book were not in this. There was not much dialogue, It was rushed and far too fast-moving, but I was mostly upset by the fact that you never got to see the bonding and love between William Beech and Tom in this film which was a true let down. The casting was not all that good,either. I thought this could have been really good, but it was so different to the book! Anextremely poor adaption, one of the worst I've seen. This deserves a decent remake that'd better be 1000 times better than this pile of garbage.\"\n",
      " b'When it comes to movies I can be pretty picky, and I\\'ll complain about anything and everything that is done wrong. While every movie has its flaws, The Night Listener had an exceptionally low count.<br /><br />If you read the last review (it was hard, since half of it was written in caps and it contained no actual information about the movie), you may have been led to believe that this movie was not too well done. Unfortunately, if you read more than 3 lines into that same review, you discovered the poster\\'s reason for disdain: he/she does not like the fact that the director is gay (or that the production team smokes crack...apparently).<br /><br />So, despite the fact that I have never written a review before, I thought this movie deserved one based on its merits, not the sexual orientation of its director. Let\\'s go over a quick checklist first: 1. Great plot? Absolutely. I won\\'t give a shred of it away, but the plot is highly compelling and definitely not what one would expect based on the commercials. This is a thriller, not a horror, and it should be approached as such. The story really will amaze you, even more so because it\\'s true (and the plot did stay quite faithful to the actual events).<br /><br />2. Wonderful Acting? Oh Yes. Robin Williams long ago broke free from the chains of the comedy type-cast, and he has since flourished in serious roles for which many people would have wrote him off just a decade ago. He once again achieves high form in his role in The Night Listener, playing a radio host who becomes increasingly troubled by and entangled in a case of...well, I\\'ll let you see for yourself.<br /><br />3. Excellent direction? Certainly. Now, unlike the other poster to which I referred, I actually know something about direction. I\\'ve been sutdying the art of direction at school now for 3 years. Of course I really don\\'t think that makes a lick of difference (the only thing that matters is if YOU like the direction), but I thought I should simply establish once again that I\\'m basing my opinions here on something both substantial and relevant...for example: not the sexual orientation of the director (or the alleged drug habits of the production team, LOL).<br /><br />Patrick Stettner\\'s direction was moody and dark, and he allowed the angles and lighting to help create those so-sought-after feelings of \"tension and release\" rather than the messy, fast-paced camera-work and quick cuts we\\'re so often subjected to today. Some people can truly show you a story through their camera, while other\\'s feel as if they have to make the story with the camera. I really appreciate when someone these days has the courage to just use the camera as its supposed to be utilized, which is as an eyeball through which we all see.<br /><br />4. Lighting, cinematography, and editing? Great all around. I\\'ve already wrote so much, and I could go on about these last three things for another ten paragraphs, so I\\'ll just wrap it up.<br /><br />In short, go see this movie. Don\\'t listen to people who have alterior motives for trashing it, especially if they\\'re so stupid that they unknowingly reveal that motive 1/4 of the way through their post. Enjoy the show! -Ben'\n",
      " b'There is a remark that one of heroines was raped on \"drunken rampage\" by Russian soldiers, which is completely untrue. This movie should not be shown only because of this.<br /><br />Also there is a statement by someone, that KGB prosecuted \"Jews, Gypsies etc\", which is \"worse than Nazis\". KGB was looking for so called \"zionist\" agents, who were (KGB believed) imperialist agents. This is totally different from targeting Jewry as a whole nation, as Nazis did. Gypsies were never prosecuted. KGB was political tool and used politically, but from internationalist standpoint. Communists really did not distinguish between nationalities.<br /><br />Whole movie stinks like fake. Main hero does not speak Russian, signs in Berlin contains typographical errors, KGB general looks totally phony. Some so called \"russian proverbs\" are totally made up, and list goes on and on.<br /><br />Not recommended to watch - this movie is full of lies, and phony stuff. Go to \"Good shepherd\" instead.']\n",
      "\n",
      "labels:  [0 1 0]\n"
     ]
    }
   ],
   "source": [
    "for example, label in train_dataset.take(1):\n",
    "  print('texts: ', example.numpy()[:3])\n",
    "  print()\n",
    "  print('labels: ', label.numpy()[:3])"
   ]
  },
  {
   "cell_type": "markdown",
   "metadata": {
    "id": "s5eWCo88voPY"
   },
   "source": [
    "## Create the text encoder"
   ]
  },
  {
   "cell_type": "code",
   "execution_count": 7,
   "metadata": {
    "execution": {
     "iopub.execute_input": "2024-11-29T10:07:02.752452Z",
     "iopub.status.busy": "2024-11-29T10:07:02.752183Z",
     "iopub.status.idle": "2024-11-29T10:07:06.325182Z",
     "shell.execute_reply": "2024-11-29T10:07:06.324457Z",
     "shell.execute_reply.started": "2024-11-29T10:07:02.752425Z"
    },
    "id": "uC25Lu1Yvuqy",
    "trusted": true
   },
   "outputs": [],
   "source": [
    "\n",
    "encoder = tf.keras.layers.TextVectorization(max_tokens=VOCAB_SIZE)\n",
    "encoder.adapt(train_dataset.map(lambda text, label: text))"
   ]
  },
  {
   "cell_type": "markdown",
   "metadata": {
    "id": "IuQzVBbe3Ldu"
   },
   "source": [
    "The `.adapt` method sets the layer's vocabulary. Here are the first 20 tokens. After the padding and unknown tokens they're sorted by frequency:"
   ]
  },
  {
   "cell_type": "code",
   "execution_count": 8,
   "metadata": {
    "execution": {
     "iopub.execute_input": "2024-11-29T10:07:06.326524Z",
     "iopub.status.busy": "2024-11-29T10:07:06.326241Z",
     "iopub.status.idle": "2024-11-29T10:07:06.360529Z",
     "shell.execute_reply": "2024-11-29T10:07:06.359693Z",
     "shell.execute_reply.started": "2024-11-29T10:07:06.326497Z"
    },
    "id": "tBoyjjWg0Ac9",
    "outputId": "4eb819e7-1f40-4346-b478-be77cb5244c9",
    "trusted": true
   },
   "outputs": [
    {
     "data": {
      "text/plain": [
       "array(['', '[UNK]', 'the', 'and', 'a', 'of', 'to', 'is', 'in', 'it', 'i',\n",
       "       'this', 'that', 'br', 'was', 'as', 'for', 'with', 'movie', 'but'],\n",
       "      dtype='<U17')"
      ]
     },
     "execution_count": 8,
     "metadata": {},
     "output_type": "execute_result"
    }
   ],
   "source": [
    "vocab = np.array(encoder.get_vocabulary())\n",
    "vocab[:20]"
   ]
  },
  {
   "cell_type": "markdown",
   "metadata": {
    "id": "mjId5pua3jHQ"
   },
   "source": [
    "Once the vocabulary is set, the layer can encode text into indices. The tensors of indices are 0-padded to the longest sequence in the batch (unless you set a fixed `output_sequence_length`):"
   ]
  },
  {
   "cell_type": "code",
   "execution_count": 9,
   "metadata": {
    "execution": {
     "iopub.execute_input": "2024-11-29T10:07:06.361778Z",
     "iopub.status.busy": "2024-11-29T10:07:06.361495Z",
     "iopub.status.idle": "2024-11-29T10:07:07.520286Z",
     "shell.execute_reply": "2024-11-29T10:07:07.519314Z",
     "shell.execute_reply.started": "2024-11-29T10:07:06.361740Z"
    },
    "id": "RGc7C9WiwRWs",
    "outputId": "2977226e-fb53-4596-977e-f6dd2a0b9d50",
    "trusted": true
   },
   "outputs": [
    {
     "data": {
      "text/plain": [
       "array([[ 10,  26,  75, ...,   0,   0,   0],\n",
       "       [ 51,   9, 257, ...,   0,   0,   0],\n",
       "       [ 48,   7,   4, ...,   0,   0,   0]])"
      ]
     },
     "execution_count": 9,
     "metadata": {},
     "output_type": "execute_result"
    }
   ],
   "source": [
    "encoded_example = encoder(example)[:3].numpy()\n",
    "encoded_example"
   ]
  },
  {
   "cell_type": "code",
   "execution_count": 10,
   "metadata": {
    "execution": {
     "iopub.execute_input": "2024-11-29T10:07:07.524220Z",
     "iopub.status.busy": "2024-11-29T10:07:07.523942Z",
     "iopub.status.idle": "2024-11-29T10:07:07.533845Z",
     "shell.execute_reply": "2024-11-29T10:07:07.533002Z",
     "shell.execute_reply.started": "2024-11-29T10:07:07.524194Z"
    },
    "id": "N_tD0QY5wXaK",
    "outputId": "577ff81c-8bd2-4a72-a622-84aa3739c5cd",
    "trusted": true
   },
   "outputs": [
    {
     "name": "stdout",
     "output_type": "stream",
     "text": [
      "Original:  b\"I have been familiar with the fantastic book of 'Goodnight Mister Tom' for absolutely ages and it was only recently when I got the chance to watch this adaption of it. I have heard lots of positive remarks about this, so I had high hopes. Once this film had finished, I was horrified.<br /><br />This film is not a good film at all. 'Goodnight Mister Tom' was an extremely poor adaption and practically 4.5/10 of the book was missed out. Particularly, I found that a lot of the characters and some great scenes in the book were not in this. There was not much dialogue, It was rushed and far too fast-moving, but I was mostly upset by the fact that you never got to see the bonding and love between William Beech and Tom in this film which was a true let down. The casting was not all that good,either. I thought this could have been really good, but it was so different to the book! Anextremely poor adaption, one of the worst I've seen. This deserves a decent remake that'd better be 1000 times better than this pile of garbage.\"\n",
      "Round-trip:  i have been familiar with the fantastic book of [UNK] mister tom for absolutely ages and it was only recently when i got the chance to watch this adaption of it i have heard lots of positive remarks about this so i had high hopes once this film had finished i was [UNK] br this film is not a good film at all [UNK] mister tom was an extremely poor adaption and practically [UNK] of the book was missed out particularly i found that a lot of the characters and some great scenes in the book were not in this there was not much dialogue it was rushed and far too [UNK] but i was mostly upset by the fact that you never got to see the bonding and love between william [UNK] and tom in this film which was a true let down the casting was not all that [UNK] i thought this could have been really good but it was so different to the book [UNK] poor adaption one of the worst ive seen this deserves a decent remake [UNK] better be 1000 times better than this pile of garbage                                                                                                                                                                                                                                                                                                                                                                                                                                                                                                                                                                                                                                                                                                                                                                                                           \n",
      "\n",
      "Original:  b'When it comes to movies I can be pretty picky, and I\\'ll complain about anything and everything that is done wrong. While every movie has its flaws, The Night Listener had an exceptionally low count.<br /><br />If you read the last review (it was hard, since half of it was written in caps and it contained no actual information about the movie), you may have been led to believe that this movie was not too well done. Unfortunately, if you read more than 3 lines into that same review, you discovered the poster\\'s reason for disdain: he/she does not like the fact that the director is gay (or that the production team smokes crack...apparently).<br /><br />So, despite the fact that I have never written a review before, I thought this movie deserved one based on its merits, not the sexual orientation of its director. Let\\'s go over a quick checklist first: 1. Great plot? Absolutely. I won\\'t give a shred of it away, but the plot is highly compelling and definitely not what one would expect based on the commercials. This is a thriller, not a horror, and it should be approached as such. The story really will amaze you, even more so because it\\'s true (and the plot did stay quite faithful to the actual events).<br /><br />2. Wonderful Acting? Oh Yes. Robin Williams long ago broke free from the chains of the comedy type-cast, and he has since flourished in serious roles for which many people would have wrote him off just a decade ago. He once again achieves high form in his role in The Night Listener, playing a radio host who becomes increasingly troubled by and entangled in a case of...well, I\\'ll let you see for yourself.<br /><br />3. Excellent direction? Certainly. Now, unlike the other poster to which I referred, I actually know something about direction. I\\'ve been sutdying the art of direction at school now for 3 years. Of course I really don\\'t think that makes a lick of difference (the only thing that matters is if YOU like the direction), but I thought I should simply establish once again that I\\'m basing my opinions here on something both substantial and relevant...for example: not the sexual orientation of the director (or the alleged drug habits of the production team, LOL).<br /><br />Patrick Stettner\\'s direction was moody and dark, and he allowed the angles and lighting to help create those so-sought-after feelings of \"tension and release\" rather than the messy, fast-paced camera-work and quick cuts we\\'re so often subjected to today. Some people can truly show you a story through their camera, while other\\'s feel as if they have to make the story with the camera. I really appreciate when someone these days has the courage to just use the camera as its supposed to be utilized, which is as an eyeball through which we all see.<br /><br />4. Lighting, cinematography, and editing? Great all around. I\\'ve already wrote so much, and I could go on about these last three things for another ten paragraphs, so I\\'ll just wrap it up.<br /><br />In short, go see this movie. Don\\'t listen to people who have alterior motives for trashing it, especially if they\\'re so stupid that they unknowingly reveal that motive 1/4 of the way through their post. Enjoy the show! -Ben'\n",
      "Round-trip:  when it comes to movies i can be pretty [UNK] and ill complain about anything and everything that is done wrong while every movie has its flaws the night [UNK] had an exceptionally low [UNK] br if you read the last review it was hard since half of it was written in [UNK] and it contained no actual information about the movie you may have been led to believe that this movie was not too well done unfortunately if you read more than 3 lines into that same review you discovered the posters reason for disdain [UNK] does not like the fact that the director is gay or that the production team [UNK] [UNK] br so despite the fact that i have never written a review before i thought this movie deserved one based on its merits not the sexual [UNK] of its director lets go over a quick [UNK] first 1 great plot absolutely i wont give a shred of it away but the plot is highly compelling and definitely not what one would expect based on the commercials this is a thriller not a horror and it should be approached as such the story really will [UNK] you even more so because its true and the plot did stay quite faithful to the actual [UNK] br 2 wonderful acting oh yes robin williams long ago broke free from the [UNK] of the comedy [UNK] and he has since [UNK] in serious roles for which many people would have wrote him off just a decade ago he once again achieves high form in his role in the night [UNK] playing a radio host who becomes increasingly troubled by and [UNK] in a case [UNK] ill let you see for yourselfbr br 3 excellent direction certainly now unlike the other poster to which i referred i actually know something about direction ive been [UNK] the art of direction at school now for 3 years of course i really dont think that makes a [UNK] of difference the only thing that matters is if you like the direction but i thought i should simply establish once again that im [UNK] my opinions here on something both substantial and [UNK] example not the sexual [UNK] of the director or the alleged drug [UNK] of the production team [UNK] br patrick [UNK] direction was moody and dark and he allowed the angles and lighting to help create those [UNK] feelings of tension and release rather than the messy fastpaced camerawork and quick cuts were so often subjected to today some people can truly show you a story through their camera while others feel as if they have to make the story with the camera i really appreciate when someone these days has the courage to just use the camera as its supposed to be [UNK] which is as an [UNK] through which we all seebr br 4 lighting cinematography and editing great all around ive already wrote so much and i could go on about these last three things for another ten [UNK] so ill just wrap it upbr br in short go see this movie dont listen to people who have [UNK] motives for [UNK] it especially if theyre so stupid that they [UNK] reveal that motive 14 of the way through their post enjoy the show ben                                                                                                                                                                                                                                                                                                                                                                                                                               \n",
      "\n",
      "Original:  b'There is a remark that one of heroines was raped on \"drunken rampage\" by Russian soldiers, which is completely untrue. This movie should not be shown only because of this.<br /><br />Also there is a statement by someone, that KGB prosecuted \"Jews, Gypsies etc\", which is \"worse than Nazis\". KGB was looking for so called \"zionist\" agents, who were (KGB believed) imperialist agents. This is totally different from targeting Jewry as a whole nation, as Nazis did. Gypsies were never prosecuted. KGB was political tool and used politically, but from internationalist standpoint. Communists really did not distinguish between nationalities.<br /><br />Whole movie stinks like fake. Main hero does not speak Russian, signs in Berlin contains typographical errors, KGB general looks totally phony. Some so called \"russian proverbs\" are totally made up, and list goes on and on.<br /><br />Not recommended to watch - this movie is full of lies, and phony stuff. Go to \"Good shepherd\" instead.'\n",
      "Round-trip:  there is a remark that one of heroines was raped on drunken rampage by russian soldiers which is completely untrue this movie should not be shown only because of thisbr br also there is a statement by someone that [UNK] [UNK] jews [UNK] etc which is worse than nazis [UNK] was looking for so called [UNK] agents who were [UNK] believed [UNK] agents this is totally different from [UNK] [UNK] as a whole nation as nazis did [UNK] were never [UNK] [UNK] was political tool and used politically but from [UNK] standpoint [UNK] really did not [UNK] between [UNK] br whole movie stinks like fake main hero does not speak russian signs in berlin contains [UNK] errors [UNK] general looks totally phony some so called russian [UNK] are totally made up and list goes on and onbr br not recommended to watch this movie is full of lies and phony stuff go to good shepherd instead                                                                                                                                                                                                                                                                                                                                                                                                                                                                                                                                                                                                                                                                                                                                                                                                                                               \n",
      "\n"
     ]
    }
   ],
   "source": [
    "for n in range(3):\n",
    "  print(\"Original: \", example[n].numpy())\n",
    "  print(\"Round-trip: \", \" \".join(vocab[encoded_example[n]]))\n",
    "  print()"
   ]
  },
  {
   "cell_type": "markdown",
   "metadata": {},
   "source": [
    "Model Building:\n",
    "\n",
    "● Create a Sequential RNN model using TensorFlow and Keras.\n",
    "● The model should consist of an Embedding layer, a SimpleRNN layer, a d\n",
    "a Dense output layer.\n",
    "● Compile the model, specifying the appropriate optimizer, loss function, and\n",
    "mets.\n",
    "Tr"
   ]
  },
  {
   "cell_type": "code",
   "execution_count": 11,
   "metadata": {
    "execution": {
     "iopub.execute_input": "2024-11-29T10:07:07.535165Z",
     "iopub.status.busy": "2024-11-29T10:07:07.534879Z",
     "iopub.status.idle": "2024-11-29T10:07:07.600341Z",
     "shell.execute_reply": "2024-11-29T10:07:07.599501Z",
     "shell.execute_reply.started": "2024-11-29T10:07:07.535139Z"
    },
    "id": "LwfoBkmRYcP3",
    "trusted": true
   },
   "outputs": [
    {
     "data": {
      "text/html": [
       "<pre style=\"white-space:pre;overflow-x:auto;line-height:normal;font-family:Menlo,'DejaVu Sans Mono',consolas,'Courier New',monospace\"><span style=\"font-weight: bold\">Model: \"sequential\"</span>\n",
       "</pre>\n"
      ],
      "text/plain": [
       "\u001b[1mModel: \"sequential\"\u001b[0m\n"
      ]
     },
     "metadata": {},
     "output_type": "display_data"
    },
    {
     "data": {
      "text/html": [
       "<pre style=\"white-space:pre;overflow-x:auto;line-height:normal;font-family:Menlo,'DejaVu Sans Mono',consolas,'Courier New',monospace\">┏━━━━━━━━━━━━━━━━━━━━━━━━━━━━━━━━━┳━━━━━━━━━━━━━━━━━━━━━━━━┳━━━━━━━━━━━━━━━┓\n",
       "┃<span style=\"font-weight: bold\"> Layer (type)                    </span>┃<span style=\"font-weight: bold\"> Output Shape           </span>┃<span style=\"font-weight: bold\">       Param # </span>┃\n",
       "┡━━━━━━━━━━━━━━━━━━━━━━━━━━━━━━━━━╇━━━━━━━━━━━━━━━━━━━━━━━━╇━━━━━━━━━━━━━━━┩\n",
       "│ text_vectorization              │ ?                      │             <span style=\"color: #00af00; text-decoration-color: #00af00\">0</span> │\n",
       "│ (<span style=\"color: #0087ff; text-decoration-color: #0087ff\">TextVectorization</span>)             │                        │               │\n",
       "├─────────────────────────────────┼────────────────────────┼───────────────┤\n",
       "│ embedding (<span style=\"color: #0087ff; text-decoration-color: #0087ff\">Embedding</span>)           │ ?                      │   <span style=\"color: #00af00; text-decoration-color: #00af00\">0</span> (unbuilt) │\n",
       "├─────────────────────────────────┼────────────────────────┼───────────────┤\n",
       "│ dropout (<span style=\"color: #0087ff; text-decoration-color: #0087ff\">Dropout</span>)               │ ?                      │   <span style=\"color: #00af00; text-decoration-color: #00af00\">0</span> (unbuilt) │\n",
       "├─────────────────────────────────┼────────────────────────┼───────────────┤\n",
       "│ simple_rnn (<span style=\"color: #0087ff; text-decoration-color: #0087ff\">SimpleRNN</span>)          │ ?                      │   <span style=\"color: #00af00; text-decoration-color: #00af00\">0</span> (unbuilt) │\n",
       "├─────────────────────────────────┼────────────────────────┼───────────────┤\n",
       "│ dropout_1 (<span style=\"color: #0087ff; text-decoration-color: #0087ff\">Dropout</span>)             │ ?                      │   <span style=\"color: #00af00; text-decoration-color: #00af00\">0</span> (unbuilt) │\n",
       "├─────────────────────────────────┼────────────────────────┼───────────────┤\n",
       "│ dense (<span style=\"color: #0087ff; text-decoration-color: #0087ff\">Dense</span>)                   │ ?                      │   <span style=\"color: #00af00; text-decoration-color: #00af00\">0</span> (unbuilt) │\n",
       "├─────────────────────────────────┼────────────────────────┼───────────────┤\n",
       "│ dropout_2 (<span style=\"color: #0087ff; text-decoration-color: #0087ff\">Dropout</span>)             │ ?                      │   <span style=\"color: #00af00; text-decoration-color: #00af00\">0</span> (unbuilt) │\n",
       "├─────────────────────────────────┼────────────────────────┼───────────────┤\n",
       "│ dense_1 (<span style=\"color: #0087ff; text-decoration-color: #0087ff\">Dense</span>)                 │ ?                      │   <span style=\"color: #00af00; text-decoration-color: #00af00\">0</span> (unbuilt) │\n",
       "└─────────────────────────────────┴────────────────────────┴───────────────┘\n",
       "</pre>\n"
      ],
      "text/plain": [
       "┏━━━━━━━━━━━━━━━━━━━━━━━━━━━━━━━━━┳━━━━━━━━━━━━━━━━━━━━━━━━┳━━━━━━━━━━━━━━━┓\n",
       "┃\u001b[1m \u001b[0m\u001b[1mLayer (type)                   \u001b[0m\u001b[1m \u001b[0m┃\u001b[1m \u001b[0m\u001b[1mOutput Shape          \u001b[0m\u001b[1m \u001b[0m┃\u001b[1m \u001b[0m\u001b[1m      Param #\u001b[0m\u001b[1m \u001b[0m┃\n",
       "┡━━━━━━━━━━━━━━━━━━━━━━━━━━━━━━━━━╇━━━━━━━━━━━━━━━━━━━━━━━━╇━━━━━━━━━━━━━━━┩\n",
       "│ text_vectorization              │ ?                      │             \u001b[38;5;34m0\u001b[0m │\n",
       "│ (\u001b[38;5;33mTextVectorization\u001b[0m)             │                        │               │\n",
       "├─────────────────────────────────┼────────────────────────┼───────────────┤\n",
       "│ embedding (\u001b[38;5;33mEmbedding\u001b[0m)           │ ?                      │   \u001b[38;5;34m0\u001b[0m (unbuilt) │\n",
       "├─────────────────────────────────┼────────────────────────┼───────────────┤\n",
       "│ dropout (\u001b[38;5;33mDropout\u001b[0m)               │ ?                      │   \u001b[38;5;34m0\u001b[0m (unbuilt) │\n",
       "├─────────────────────────────────┼────────────────────────┼───────────────┤\n",
       "│ simple_rnn (\u001b[38;5;33mSimpleRNN\u001b[0m)          │ ?                      │   \u001b[38;5;34m0\u001b[0m (unbuilt) │\n",
       "├─────────────────────────────────┼────────────────────────┼───────────────┤\n",
       "│ dropout_1 (\u001b[38;5;33mDropout\u001b[0m)             │ ?                      │   \u001b[38;5;34m0\u001b[0m (unbuilt) │\n",
       "├─────────────────────────────────┼────────────────────────┼───────────────┤\n",
       "│ dense (\u001b[38;5;33mDense\u001b[0m)                   │ ?                      │   \u001b[38;5;34m0\u001b[0m (unbuilt) │\n",
       "├─────────────────────────────────┼────────────────────────┼───────────────┤\n",
       "│ dropout_2 (\u001b[38;5;33mDropout\u001b[0m)             │ ?                      │   \u001b[38;5;34m0\u001b[0m (unbuilt) │\n",
       "├─────────────────────────────────┼────────────────────────┼───────────────┤\n",
       "│ dense_1 (\u001b[38;5;33mDense\u001b[0m)                 │ ?                      │   \u001b[38;5;34m0\u001b[0m (unbuilt) │\n",
       "└─────────────────────────────────┴────────────────────────┴───────────────┘\n"
      ]
     },
     "metadata": {},
     "output_type": "display_data"
    },
    {
     "data": {
      "text/html": [
       "<pre style=\"white-space:pre;overflow-x:auto;line-height:normal;font-family:Menlo,'DejaVu Sans Mono',consolas,'Courier New',monospace\"><span style=\"font-weight: bold\"> Total params: </span><span style=\"color: #00af00; text-decoration-color: #00af00\">0</span> (0.00 B)\n",
       "</pre>\n"
      ],
      "text/plain": [
       "\u001b[1m Total params: \u001b[0m\u001b[38;5;34m0\u001b[0m (0.00 B)\n"
      ]
     },
     "metadata": {},
     "output_type": "display_data"
    },
    {
     "data": {
      "text/html": [
       "<pre style=\"white-space:pre;overflow-x:auto;line-height:normal;font-family:Menlo,'DejaVu Sans Mono',consolas,'Courier New',monospace\"><span style=\"font-weight: bold\"> Trainable params: </span><span style=\"color: #00af00; text-decoration-color: #00af00\">0</span> (0.00 B)\n",
       "</pre>\n"
      ],
      "text/plain": [
       "\u001b[1m Trainable params: \u001b[0m\u001b[38;5;34m0\u001b[0m (0.00 B)\n"
      ]
     },
     "metadata": {},
     "output_type": "display_data"
    },
    {
     "data": {
      "text/html": [
       "<pre style=\"white-space:pre;overflow-x:auto;line-height:normal;font-family:Menlo,'DejaVu Sans Mono',consolas,'Courier New',monospace\"><span style=\"font-weight: bold\"> Non-trainable params: </span><span style=\"color: #00af00; text-decoration-color: #00af00\">0</span> (0.00 B)\n",
       "</pre>\n"
      ],
      "text/plain": [
       "\u001b[1m Non-trainable params: \u001b[0m\u001b[38;5;34m0\u001b[0m (0.00 B)\n"
      ]
     },
     "metadata": {},
     "output_type": "display_data"
    }
   ],
   "source": [
    "model = tf.keras.Sequential([\n",
    "    encoder,\n",
    "    Embedding(input_dim=len(encoder.get_vocabulary()),output_dim=64,mask_zero=True), #Use masking to handle the variable sequence lengths\n",
    "    Dropout(0.5),\n",
    "    SimpleRNN(64),\n",
    "    Dropout(0.5),\n",
    "    Dense(64, activation='relu',kernel_regularizer=regularizers.l2(0.001)), #This layer increased the accuracy of the model\n",
    "    Dropout(0.5),\n",
    "    Dense(1)\n",
    "])\n",
    "model.summary()"
   ]
  },
  {
   "cell_type": "markdown",
   "metadata": {
    "id": "kF-PsCk1LwjY"
   },
   "source": [
    "The embedding layer [uses masking](https://www.tensorflow.org/guide/keras/masking_and_padding) to handle the varying sequence-lengths. All the layers after the `Embedding` support masking:"
   ]
  },
  {
   "cell_type": "code",
   "execution_count": 12,
   "metadata": {
    "execution": {
     "iopub.execute_input": "2024-11-29T10:07:07.601666Z",
     "iopub.status.busy": "2024-11-29T10:07:07.601391Z",
     "iopub.status.idle": "2024-11-29T10:07:07.606326Z",
     "shell.execute_reply": "2024-11-29T10:07:07.605450Z",
     "shell.execute_reply.started": "2024-11-29T10:07:07.601640Z"
    },
    "id": "87a8-CwfKebw",
    "outputId": "1ba259f3-e1b7-44ef-e936-cde9a82d6db2",
    "trusted": true
   },
   "outputs": [
    {
     "name": "stdout",
     "output_type": "stream",
     "text": [
      "[False, True, True, True, True, True, True, True]\n"
     ]
    }
   ],
   "source": [
    "print([layer.supports_masking for layer in model.layers])"
   ]
  },
  {
   "cell_type": "markdown",
   "metadata": {
    "id": "ZlS0iaUIWLpI"
   },
   "source": [
    "To confirm that this works as expected, evaluate a sentence twice. First, alone so there's no padding to mask:"
   ]
  },
  {
   "cell_type": "code",
   "execution_count": 13,
   "metadata": {
    "execution": {
     "iopub.execute_input": "2024-11-29T10:07:07.607668Z",
     "iopub.status.busy": "2024-11-29T10:07:07.607383Z",
     "iopub.status.idle": "2024-11-29T10:07:09.500497Z",
     "shell.execute_reply": "2024-11-29T10:07:09.499705Z",
     "shell.execute_reply.started": "2024-11-29T10:07:07.607643Z"
    },
    "id": "O41gw3KfWHus",
    "outputId": "a77aedff-a9be-4ee8-bb30-67b44e59827a",
    "trusted": true
   },
   "outputs": [
    {
     "name": "stdout",
     "output_type": "stream",
     "text": [
      "\u001b[1m1/1\u001b[0m \u001b[32m━━━━━━━━━━━━━━━━━━━━\u001b[0m\u001b[37m\u001b[0m \u001b[1m2s\u001b[0m 2s/step\n",
      "[0.11408477]\n"
     ]
    }
   ],
   "source": [
    "# predict on a sample text without padding.\n",
    "\n",
    "sample_text = ('The movie was cool. The animation and the graphics were out of this world. I would recommend this movie.')\n",
    "predictions = model.predict(tf.constant([sample_text]))\n",
    "print(predictions[0])"
   ]
  },
  {
   "cell_type": "markdown",
   "metadata": {
    "id": "K0VQmGnEWcuz"
   },
   "source": [
    "Now, evaluate it again in a batch with a longer sentence. The result should be identical:"
   ]
  },
  {
   "cell_type": "code",
   "execution_count": 14,
   "metadata": {
    "execution": {
     "iopub.execute_input": "2024-11-29T10:07:09.501704Z",
     "iopub.status.busy": "2024-11-29T10:07:09.501439Z",
     "iopub.status.idle": "2024-11-29T10:07:10.397189Z",
     "shell.execute_reply": "2024-11-29T10:07:10.396342Z",
     "shell.execute_reply.started": "2024-11-29T10:07:09.501678Z"
    },
    "id": "UIgpuTeFNDzq",
    "outputId": "9f6af1ed-09dc-41f9-dcff-ba720b94d9f2",
    "trusted": true
   },
   "outputs": [
    {
     "name": "stdout",
     "output_type": "stream",
     "text": [
      "\u001b[1m1/1\u001b[0m \u001b[32m━━━━━━━━━━━━━━━━━━━━\u001b[0m\u001b[37m\u001b[0m \u001b[1m1s\u001b[0m 854ms/step\n",
      "[0.11408482]\n"
     ]
    }
   ],
   "source": [
    "# predict on a sample text with padding\n",
    "\n",
    "padding = \"the \" * 2000\n",
    "predictions = model.predict(tf.constant([sample_text, padding]))\n",
    "print(predictions[0])"
   ]
  },
  {
   "cell_type": "markdown",
   "metadata": {
    "id": "sRI776ZcH3Tf"
   },
   "source": [
    "Compile the Keras model to configure the training process:"
   ]
  },
  {
   "cell_type": "code",
   "execution_count": 15,
   "metadata": {
    "execution": {
     "iopub.execute_input": "2024-11-29T10:07:10.398508Z",
     "iopub.status.busy": "2024-11-29T10:07:10.398239Z",
     "iopub.status.idle": "2024-11-29T10:07:10.412853Z",
     "shell.execute_reply": "2024-11-29T10:07:10.412117Z",
     "shell.execute_reply.started": "2024-11-29T10:07:10.398481Z"
    },
    "id": "kj2xei41YZjC",
    "trusted": true
   },
   "outputs": [],
   "source": [
    "model.compile(loss=tf.keras.losses.BinaryCrossentropy(from_logits=True),optimizer=tf.keras.optimizers.Adam(1e-4),metrics=['accuracy'])"
   ]
  },
  {
   "cell_type": "markdown",
   "metadata": {
    "id": "zIwH3nto596k"
   },
   "source": [
    "## Train the model"
   ]
  },
  {
   "cell_type": "code",
   "execution_count": 16,
   "metadata": {
    "execution": {
     "iopub.execute_input": "2024-11-29T10:07:10.414366Z",
     "iopub.status.busy": "2024-11-29T10:07:10.413963Z",
     "iopub.status.idle": "2024-11-29T11:13:38.233934Z",
     "shell.execute_reply": "2024-11-29T11:13:38.233090Z",
     "shell.execute_reply.started": "2024-11-29T10:07:10.414329Z"
    },
    "id": "hw86wWS4YgR2",
    "outputId": "319dc39c-8da7-4df7-ed63-9c45a0c95948",
    "trusted": true
   },
   "outputs": [
    {
     "name": "stdout",
     "output_type": "stream",
     "text": [
      "Epoch 1/100\n",
      "\u001b[1m196/196\u001b[0m \u001b[32m━━━━━━━━━━━━━━━━━━━━\u001b[0m\u001b[37m\u001b[0m \u001b[1m269s\u001b[0m 1s/step - accuracy: 0.4942 - loss: 0.7682 - val_accuracy: 0.4971 - val_loss: 0.7513\n",
      "Epoch 2/100\n",
      "\u001b[1m196/196\u001b[0m \u001b[32m━━━━━━━━━━━━━━━━━━━━\u001b[0m\u001b[37m\u001b[0m \u001b[1m268s\u001b[0m 1s/step - accuracy: 0.5016 - loss: 0.7570 - val_accuracy: 0.5167 - val_loss: 0.7443\n",
      "Epoch 3/100\n",
      "\u001b[1m196/196\u001b[0m \u001b[32m━━━━━━━━━━━━━━━━━━━━\u001b[0m\u001b[37m\u001b[0m \u001b[1m268s\u001b[0m 1s/step - accuracy: 0.4999 - loss: 0.7446 - val_accuracy: 0.4987 - val_loss: 0.7346\n",
      "Epoch 4/100\n",
      "\u001b[1m196/196\u001b[0m \u001b[32m━━━━━━━━━━━━━━━━━━━━\u001b[0m\u001b[37m\u001b[0m \u001b[1m267s\u001b[0m 1s/step - accuracy: 0.5188 - loss: 0.7279 - val_accuracy: 0.7143 - val_loss: 0.6267\n",
      "Epoch 5/100\n",
      "\u001b[1m196/196\u001b[0m \u001b[32m━━━━━━━━━━━━━━━━━━━━\u001b[0m\u001b[37m\u001b[0m \u001b[1m268s\u001b[0m 1s/step - accuracy: 0.7005 - loss: 0.6030 - val_accuracy: 0.6503 - val_loss: 0.6772\n",
      "Epoch 6/100\n",
      "\u001b[1m196/196\u001b[0m \u001b[32m━━━━━━━━━━━━━━━━━━━━\u001b[0m\u001b[37m\u001b[0m \u001b[1m267s\u001b[0m 1s/step - accuracy: 0.6335 - loss: 0.6756 - val_accuracy: 0.7596 - val_loss: 0.5592\n",
      "Epoch 7/100\n",
      "\u001b[1m196/196\u001b[0m \u001b[32m━━━━━━━━━━━━━━━━━━━━\u001b[0m\u001b[37m\u001b[0m \u001b[1m263s\u001b[0m 1s/step - accuracy: 0.8029 - loss: 0.4870 - val_accuracy: 0.8352 - val_loss: 0.4182\n",
      "Epoch 8/100\n"
     ]
    },
    {
     "name": "stderr",
     "output_type": "stream",
     "text": [
      "/opt/conda/lib/python3.10/contextlib.py:153: UserWarning: Your input ran out of data; interrupting training. Make sure that your dataset or generator can generate at least `steps_per_epoch * epochs` batches. You may need to use the `.repeat()` function when building your dataset.\n",
      "  self.gen.throw(typ, value, traceback)\n"
     ]
    },
    {
     "name": "stdout",
     "output_type": "stream",
     "text": [
      "\u001b[1m196/196\u001b[0m \u001b[32m━━━━━━━━━━━━━━━━━━━━\u001b[0m\u001b[37m\u001b[0m \u001b[1m266s\u001b[0m 1s/step - accuracy: 0.8552 - loss: 0.3944 - val_accuracy: 0.8552 - val_loss: 0.3912\n",
      "Epoch 9/100\n",
      "\u001b[1m196/196\u001b[0m \u001b[32m━━━━━━━━━━━━━━━━━━━━\u001b[0m\u001b[37m\u001b[0m \u001b[1m264s\u001b[0m 1s/step - accuracy: 0.8777 - loss: 0.3506 - val_accuracy: 0.8604 - val_loss: 0.3829\n",
      "Epoch 10/100\n",
      "\u001b[1m196/196\u001b[0m \u001b[32m━━━━━━━━━━━━━━━━━━━━\u001b[0m\u001b[37m\u001b[0m \u001b[1m268s\u001b[0m 1s/step - accuracy: 0.8889 - loss: 0.3261 - val_accuracy: 0.8620 - val_loss: 0.3769\n",
      "Epoch 11/100\n",
      "\u001b[1m196/196\u001b[0m \u001b[32m━━━━━━━━━━━━━━━━━━━━\u001b[0m\u001b[37m\u001b[0m \u001b[1m266s\u001b[0m 1s/step - accuracy: 0.9017 - loss: 0.2958 - val_accuracy: 0.8617 - val_loss: 0.3878\n",
      "Epoch 12/100\n",
      "\u001b[1m196/196\u001b[0m \u001b[32m━━━━━━━━━━━━━━━━━━━━\u001b[0m\u001b[37m\u001b[0m \u001b[1m263s\u001b[0m 1s/step - accuracy: 0.9106 - loss: 0.2766 - val_accuracy: 0.8638 - val_loss: 0.3889\n",
      "Epoch 13/100\n",
      "\u001b[1m196/196\u001b[0m \u001b[32m━━━━━━━━━━━━━━━━━━━━\u001b[0m\u001b[37m\u001b[0m \u001b[1m266s\u001b[0m 1s/step - accuracy: 0.9139 - loss: 0.2641 - val_accuracy: 0.8714 - val_loss: 0.3846\n",
      "Epoch 14/100\n",
      "\u001b[1m196/196\u001b[0m \u001b[32m━━━━━━━━━━━━━━━━━━━━\u001b[0m\u001b[37m\u001b[0m \u001b[1m259s\u001b[0m 1s/step - accuracy: 0.9196 - loss: 0.2535 - val_accuracy: 0.8689 - val_loss: 0.3832\n",
      "Epoch 15/100\n",
      "\u001b[1m196/196\u001b[0m \u001b[32m━━━━━━━━━━━━━━━━━━━━\u001b[0m\u001b[37m\u001b[0m \u001b[1m265s\u001b[0m 1s/step - accuracy: 0.9221 - loss: 0.2439 - val_accuracy: 0.8646 - val_loss: 0.4098\n"
     ]
    }
   ],
   "source": [
    "# Assuming your preprocessed data is in train_dataset\n",
    "#Train the model on the preprocessed movie reviews, using a batch size of 128\n",
    "\n",
    "early_stopping = EarlyStopping(monitor='val_loss', patience=5, restore_best_weights=True)\n",
    "\n",
    "history = model.fit(train_dataset, epochs=100,validation_data=test_dataset,batch_size=128,validation_steps=30,callbacks=[early_stopping])"
   ]
  },
  {
   "cell_type": "code",
   "execution_count": 17,
   "metadata": {
    "execution": {
     "iopub.execute_input": "2024-11-29T11:13:38.235881Z",
     "iopub.status.busy": "2024-11-29T11:13:38.235177Z",
     "iopub.status.idle": "2024-11-29T11:14:41.015466Z",
     "shell.execute_reply": "2024-11-29T11:14:41.014629Z",
     "shell.execute_reply.started": "2024-11-29T11:13:38.235837Z"
    },
    "id": "BaNbXi43YgUT",
    "trusted": true
   },
   "outputs": [
    {
     "name": "stdout",
     "output_type": "stream",
     "text": [
      "\u001b[1m196/196\u001b[0m \u001b[32m━━━━━━━━━━━━━━━━━━━━\u001b[0m\u001b[37m\u001b[0m \u001b[1m63s\u001b[0m 320ms/step - accuracy: 0.8642 - loss: 0.3842\n",
      "Test Loss: 0.379763662815094\n",
      "Test Accuracy: 0.8648800253868103\n"
     ]
    }
   ],
   "source": [
    "test_loss, test_acc = model.evaluate(test_dataset)\n",
    "\n",
    "print('Test Loss:', test_loss)\n",
    "print('Test Accuracy:', test_acc)"
   ]
  },
  {
   "cell_type": "code",
   "execution_count": 18,
   "metadata": {
    "execution": {
     "iopub.execute_input": "2024-11-29T11:14:41.016897Z",
     "iopub.status.busy": "2024-11-29T11:14:41.016628Z",
     "iopub.status.idle": "2024-11-29T11:14:41.479506Z",
     "shell.execute_reply": "2024-11-29T11:14:41.478638Z",
     "shell.execute_reply.started": "2024-11-29T11:14:41.016872Z"
    },
    "trusted": true
   },
   "outputs": [
    {
     "data": {
      "image/png": "[encoded data removed]",
      "text/plain": [
       "<Figure size 1200x600 with 2 Axes>"
      ]
     },
     "metadata": {},
     "output_type": "display_data"
    }
   ],
   "source": [
    "#Track accuracy\n",
    "train_loss = history.history[\"loss\"]\n",
    "val_loss = history.history[\"val_loss\"]\n",
    "\n",
    "train_acc = history.history[\"accuracy\"]\n",
    "val_acc = history.history[\"val_accuracy\"]\n",
    "\n",
    "plt.figure(figsize=(12, 6))\n",
    "# Plot Training and Validation Loss\n",
    "plt.subplot(1, 2, 1)\n",
    "plt.plot(train_loss)\n",
    "plt.plot(val_loss)\n",
    "plt.xlabel(\"Epoch\")\n",
    "plt.ylabel(\"Loss\")\n",
    "plt.title(\"Loss Curves\")\n",
    "plt.legend([\"Train\", \"Val\"])\n",
    "\n",
    "\n",
    "# Plot Training and Validation Accuracy\n",
    "plt.subplot(1, 2, 2)\n",
    "plt.plot(train_acc)\n",
    "plt.plot(val_acc)\n",
    "plt.xlabel(\"Epoch\")\n",
    "plt.ylabel(\"Accuracy\")\n",
    "plt.ylim(0,1.1)\n",
    "plt.title(\"Accuracy Curves\")\n",
    "plt.legend([\"Train\", \"Val\"])\n",
    "\n",
    "\n",
    "plt.grid()\n",
    "plt.show()\n"
   ]
  },
  {
   "cell_type": "markdown",
   "metadata": {
    "id": "DwSE_386uhxD"
   },
   "source": [
    "Run a prediction on a new sentence:\n",
    "\n",
    "If the prediction is >= 0.0, it is positive else it is negative."
   ]
  },
  {
   "cell_type": "code",
   "execution_count": 19,
   "metadata": {
    "execution": {
     "iopub.execute_input": "2024-11-29T11:14:41.480851Z",
     "iopub.status.busy": "2024-11-29T11:14:41.480564Z",
     "iopub.status.idle": "2024-11-29T11:14:41.735483Z",
     "shell.execute_reply": "2024-11-29T11:14:41.734821Z",
     "shell.execute_reply.started": "2024-11-29T11:14:41.480824Z"
    },
    "id": "ZXgfQSgRW6zU",
    "trusted": true
   },
   "outputs": [
    {
     "name": "stdout",
     "output_type": "stream",
     "text": [
      "\u001b[1m1/1\u001b[0m \u001b[32m━━━━━━━━━━━━━━━━━━━━\u001b[0m\u001b[37m\u001b[0m \u001b[1m0s\u001b[0m 207ms/step\n",
      "Negative\n"
     ]
    }
   ],
   "source": [
    "sample_text = ('The new movie was a complete disaster. The plot was nonsensical, the acting was wooden, and the special effects were laughable. The pacing was slow and the dialogue was cringe-worthy. I have never wasted two hours of my life so poorly. Avoid this movie at all costs.')\n",
    "predictions = model.predict(tf.constant([sample_text]))[0][0]\n",
    "\n",
    "sentiment = \"Positive\" if predictions >= 0.5 else \"Negative\"\n",
    "\n",
    "print(sentiment)"
   ]
  },
  {
   "cell_type": "code",
   "execution_count": 20,
   "metadata": {
    "execution": {
     "iopub.execute_input": "2024-11-29T11:14:41.736855Z",
     "iopub.status.busy": "2024-11-29T11:14:41.736530Z",
     "iopub.status.idle": "2024-11-29T11:14:41.807030Z",
     "shell.execute_reply": "2024-11-29T11:14:41.806176Z",
     "shell.execute_reply.started": "2024-11-29T11:14:41.736827Z"
    },
    "trusted": true
   },
   "outputs": [
    {
     "name": "stdout",
     "output_type": "stream",
     "text": [
      "\u001b[1m1/1\u001b[0m \u001b[32m━━━━━━━━━━━━━━━━━━━━\u001b[0m\u001b[37m\u001b[0m \u001b[1m0s\u001b[0m 29ms/step\n",
      "Positive\n"
     ]
    }
   ],
   "source": [
    "sample_text = ('The new movie was a delightful surprise. The captivating storyline, stellar performances, and stunning visuals kept me engaged throughout. The skillful storytelling of director and the dedication of actors shone through. A must-watch for movie lovers!')\n",
    "predictions = model.predict(tf.constant([sample_text]))[0][0]\n",
    "sentiment = \"Positive\" if predictions >= 0.5 else \"Negative\"\n",
    "\n",
    "print(sentiment)"
   ]
  }
 ],
 "metadata": {
  "accelerator": "GPU",
  "colab": {
   "name": "text_classification_rnn.ipynb",
   "provenance": [],
   "toc_visible": true
  },
  "kaggle": {
   "accelerator": "gpu",
   "dataSources": [],
   "dockerImageVersionId": 30787,
   "isGpuEnabled": true,
   "isInternetEnabled": true,
   "language": "python",
   "sourceType": "notebook"
  },
  "kernelspec": {
   "display_name": "base",
   "language": "python",
   "name": "python3"
  },
  "language_info": {
   "codemirror_mode": {
    "name": "ipython",
    "version": 3
   },
   "file_extension": ".py",
   "mimetype": "text/x-python",
   "name": "python",
   "nbconvert_exporter": "python",
   "pygments_lexer": "ipython3",
   "version": "3.11.10"
  }
 },
 "nbformat": 4,
 "nbformat_minor": 4
}
